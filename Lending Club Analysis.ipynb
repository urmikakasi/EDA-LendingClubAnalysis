{
 "cells": [
  {
   "cell_type": "code",
   "execution_count": 2,
   "id": "712ad55a",
   "metadata": {},
   "outputs": [],
   "source": [
    "#MAKE GIT REPO PUBLIC!!!"
   ]
  },
  {
   "cell_type": "code",
   "execution_count": 1,
   "id": "cacfd4f7",
   "metadata": {},
   "outputs": [],
   "source": [
    "#import libraries"
   ]
  },
  {
   "cell_type": "code",
   "execution_count": null,
   "id": "77b4f04c",
   "metadata": {},
   "outputs": [],
   "source": [
    "class EDA:\n",
    "    def __init__(self, data):\n",
    "        self.data= data\n",
    "    def analysis_1():\n",
    "        #do something\n",
    "        pass"
   ]
  }
 ],
 "metadata": {
  "kernelspec": {
   "display_name": "Python 3 (ipykernel)",
   "language": "python",
   "name": "python3"
  },
  "language_info": {
   "codemirror_mode": {
    "name": "ipython",
    "version": 3
   },
   "file_extension": ".py",
   "mimetype": "text/x-python",
   "name": "python",
   "nbconvert_exporter": "python",
   "pygments_lexer": "ipython3",
   "version": "3.9.7"
  }
 },
 "nbformat": 4,
 "nbformat_minor": 5
}
